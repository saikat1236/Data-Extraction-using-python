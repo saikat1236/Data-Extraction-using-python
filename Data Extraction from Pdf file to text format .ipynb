{
 "cells": [
  {
   "cell_type": "code",
   "execution_count": 9,
   "metadata": {},
   "outputs": [
    {
     "name": "stdout",
     "output_type": "stream",
     "text": [
      "1\n",
      "Hello\n",
      "\n",
      ".\n",
      " \n",
      "M\n",
      "y \n",
      "name is sai\n",
      "kat biswas and \n",
      "I\n",
      " \n",
      "am a 2\n",
      "nd\n",
      " \n",
      "year \n",
      "production engineering s\n",
      "tudent. \n",
      "P\n",
      "ersuing \n",
      "my btech \n",
      "degree from Nation\n",
      "al Institute of t\n",
      "echno\n",
      "lo\n",
      "gy \n",
      "Agartala. \n",
      " \n",
      "\n"
     ]
    }
   ],
   "source": [
    "import PyPDF2 \n",
    "    \n",
    "# creating a pdf file object  \n",
    "pdfFileObj = open('Hellopdf.pdf', 'rb')  \n",
    "\n",
    "# creating a pdf reader object  \n",
    "pdfReader = PyPDF2.PdfFileReader(pdfFileObj)  \n",
    "\n",
    "# printing number of pages in pdf file  \n",
    "print(pdfReader.numPages)  \n",
    "    \n",
    "# creating a page object  \n",
    "pageObj = pdfReader.getPage(0)  \n",
    "\n",
    "# extracting text from page  \n",
    "print(pageObj.extractText())  \n",
    "    \n",
    "# closing the pdf file object  \n",
    "pdfFileObj.close()\n"
   ]
  },
  {
   "cell_type": "code",
   "execution_count": 1,
   "metadata": {},
   "outputs": [
    {
     "name": "stdout",
     "output_type": "stream",
     "text": [
      "Hello….\n",
      "My name is saikat biswas and I am a 2nd year production engineering student. Persuing my btech degree from National Institute of technology Agartala. \n"
     ]
    }
   ],
   "source": [
    "\n",
    "import docx\n",
    "doc = docx.Document('Hellodocx.docx')\n",
    "doc.paragraphs[0].text\n",
    "doc.paragraphs[1].text\n",
    "def main():\n",
    "    try:\n",
    "        doc = docx.Document('Hellodocx.docx')  # Creating word reader object.\n",
    "        data = \"\"\n",
    "        fullText = []\n",
    "        for para in doc.paragraphs:\n",
    "            fullText.append(para.text)\n",
    "            data = '\\n'.join(fullText)\n",
    " \n",
    "        print(data)\n",
    " \n",
    "    except IOError:\n",
    "        print('There was an error opening the file!')\n",
    "        return\n",
    " \n",
    " \n",
    "if __name__ == '__main__':\n",
    "    main()"
   ]
  },
  {
   "cell_type": "code",
   "execution_count": 20,
   "metadata": {},
   "outputs": [
    {
     "ename": "TabError",
     "evalue": "inconsistent use of tabs and spaces in indentation (<ipython-input-20-675e8f2c2cc6>, line 8)",
     "output_type": "error",
     "traceback": [
      "\u001b[1;36m  File \u001b[1;32m\"<ipython-input-20-675e8f2c2cc6>\"\u001b[1;36m, line \u001b[1;32m8\u001b[0m\n\u001b[1;33m    for page in PDFPage.get_pages(fh, caching=True, check_extractable=True):\u001b[0m\n\u001b[1;37m                                                                            ^\u001b[0m\n\u001b[1;31mTabError\u001b[0m\u001b[1;31m:\u001b[0m inconsistent use of tabs and spaces in indentation\n"
     ]
    }
   ],
   "source": [
    "import io \n",
    "from pdfminer.converter import TextConverter \n",
    "from pdfminer.pdfinterp import PDFPageInterpreter \n",
    "from pdfminer.pdfinterp import PDFResourceManager \n",
    "from pdfminer.pdfpage import PDFPage\n",
    "def extract_text_by_page(Hellopdf):\n",
    "    with open('C:\\Users\\Saikat Biswas\\Hellopdf.pdf', 'rb') as fh: \n",
    "        for page in PDFPage.get_pages(fh, caching=True, check_extractable=True):\n",
    "\t\t\tresource_manager = PDFResourceManager() \n",
    "\t\t\tfake_file_handle = io.StringIO() \n",
    "\t\t\tconverter = TextConverter(resource_manager, fake_file_handle) \n",
    "\t\t\tpage_interpreter = PDFPageInterpreter(resource_manager, converter) \n",
    "\t\t\tpage_interpreter.process_page(page) \n",
    "\t\t\ttext = fake_file_handle.getvalue() \n",
    "\t\t\tyield text \n",
    "\t\t\t\n",
    "\t\t\t# close open handles \n",
    "\t\t\tconverter.close() \n",
    "\t\t\tfake_file_handle.close() \n",
    "\t\t\t\n",
    "def extract_text(C:\\Users\\Saikat Biswas\\Hellopdf.pdf): \n",
    "\tfor page in extract_text_by_page(C:\\Users\\Saikat Biswas\\Hellopdf.pdf): \n",
    "\t\tprint(page) \n",
    "\t\tprint() \n",
    "\t\t\n",
    "# Driver code \n",
    "if __name__ == '__main__': \n",
    "\tprint(extract_text('Hellopdf.pdf')) \n"
   ]
  },
  {
   "cell_type": "code",
   "execution_count": null,
   "metadata": {},
   "outputs": [],
   "source": []
  }
 ],
 "metadata": {
  "kernelspec": {
   "display_name": "Python 3",
   "language": "python",
   "name": "python3"
  },
  "language_info": {
   "codemirror_mode": {
    "name": "ipython",
    "version": 3
   },
   "file_extension": ".py",
   "mimetype": "text/x-python",
   "name": "python",
   "nbconvert_exporter": "python",
   "pygments_lexer": "ipython3",
   "version": "3.7.9"
  }
 },
 "nbformat": 4,
 "nbformat_minor": 4
}
